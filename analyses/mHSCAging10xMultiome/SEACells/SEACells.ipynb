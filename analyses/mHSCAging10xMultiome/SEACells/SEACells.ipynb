{
 "cells": [
  {
   "cell_type": "code",
   "execution_count": 1,
   "id": "9cf81944",
   "metadata": {},
   "outputs": [
    {
     "name": "stderr",
     "output_type": "stream",
     "text": [
      "findfont: Font family ['Raleway'] not found. Falling back to DejaVu Sans.\n",
      "findfont: Font family ['Lato'] not found. Falling back to DejaVu Sans.\n"
     ]
    }
   ],
   "source": [
    "import os\n",
    "import pandas as pd\n",
    "import numpy as np\n",
    "import scanpy as sc\n",
    "import pyranges as pr\n",
    "import warnings\n",
    "import matplotlib\n",
    "import matplotlib.pyplot as plt\n",
    "import seaborn as sns\n",
    "from scipy.sparse import coo_matrix\n",
    "import SEACells\n",
    "import anndata\n",
    "import h5py\n",
    "from scipy.io import mmread\n",
    "import tqdm"
   ]
  },
  {
   "cell_type": "code",
   "execution_count": 2,
   "id": "5540144f",
   "metadata": {},
   "outputs": [],
   "source": [
    "h5_path = \"../../../data/mHSCAging10xMultiome/SEACells.h5\"\n",
    "hf = h5py.File(h5_path, 'r')\n",
    "cell_LSI = np.transpose(hf.get('cellEmbedding'))\n",
    "cell_meta = np.transpose(hf.get('cellMetadata'))\n",
    "cell_UMAP = np.transpose(hf.get('UMAP'))\n",
    "counts_ijv = np.transpose(hf.get('counts'))\n",
    "barcodes = [bc.decode('ascii') for bc in hf.get('barcodes')]\n",
    "peak_ranges = [pk.decode('ascii') for pk in hf.get('peaks')]\n",
    "peak_ranges = pd.Series(peak_ranges)\n",
    "hf.close()"
   ]
  },
  {
   "cell_type": "code",
   "execution_count": 3,
   "id": "bfcc0dd3",
   "metadata": {},
   "outputs": [],
   "source": [
    "# Make sparse count matrix\n",
    "count_data = counts_ijv[:, 2]\n",
    "count_col = np.array(counts_ijv[:, 1], dtype = int) - 1\n",
    "count_row = np.array(counts_ijv[:, 0], dtype = int) - 1 # R is 1-based index and python is 0-based\n",
    "counts = coo_matrix((count_data, (count_row, count_col)), \n",
    "                    shape = (len(peak_ranges), len(barcodes)))"
   ]
  },
  {
   "cell_type": "code",
   "execution_count": 4,
   "id": "e9acac7a",
   "metadata": {},
   "outputs": [],
   "source": [
    "# Construct AnnData object\n",
    "ad = sc.AnnData(counts.T)\n",
    "ad.obs_names = barcodes\n",
    "ad.var_names = peak_ranges.values\n",
    "ad.X = ad.X.tocsr()\n",
    "ad.obsm['LSI'] = cell_LSI[:, 1:20]"
   ]
  },
  {
   "cell_type": "code",
   "execution_count": 5,
   "id": "7f33072b",
   "metadata": {},
   "outputs": [],
   "source": [
    "# Leiden and UMAP\n",
    "warnings.filterwarnings('ignore')\n",
    "sc.pp.neighbors(ad, use_rep='LSI')\n",
    "sc.tl.umap(ad)\n",
    "sc.tl.leiden(ad)\n",
    "warnings.filterwarnings('default')"
   ]
  },
  {
   "cell_type": "code",
   "execution_count": 6,
   "id": "670b40eb",
   "metadata": {},
   "outputs": [
    {
     "data": {
      "text/plain": [
       "AnnData object with n_obs × n_vars = 12906 × 298813\n",
       "    obs: 'leiden'\n",
       "    uns: 'neighbors', 'umap', 'leiden'\n",
       "    obsm: 'LSI', 'X_umap'\n",
       "    obsp: 'distances', 'connectivities'"
      ]
     },
     "execution_count": 6,
     "metadata": {},
     "output_type": "execute_result"
    }
   ],
   "source": [
    "ad"
   ]
  },
  {
   "cell_type": "code",
   "execution_count": 7,
   "id": "88e668d4",
   "metadata": {},
   "outputs": [],
   "source": [
    "## User defined parameters\n",
    "\n",
    "## Core parameters \n",
    "n_SEACells = 30\n",
    "build_kernel_on = 'LSI' # key in ad.obsm to use for computing metacells\n",
    "                          # This would be replaced by 'X_svd' for ATAC data\n",
    "\n",
    "## Additional parameters\n",
    "n_waypoint_eigs = 10 # Number of eigenvalues to consider when initializing metacells\n",
    "waypoint_proportion = 0.9 # Proportion of metacells to initialize using waypoint analysis, \n",
    "                        # the remainder of cells are selected by greedy selection"
   ]
  },
  {
   "cell_type": "code",
   "execution_count": 8,
   "id": "2dc39a63",
   "metadata": {},
   "outputs": [
    {
     "name": "stdout",
     "output_type": "stream",
     "text": [
      "Building kernel...\n",
      "Computing kNN graph using scanpy NN ...\n",
      "Computing radius for adaptive bandwidth kernel...\n"
     ]
    },
    {
     "name": "stderr",
     "output_type": "stream",
     "text": [
      "/n/holylfs05/LABS/buenrostro_lab/Users/yanhu/.conda/envs/seacells/lib/python3.8/site-packages/scipy/sparse/_index.py:125: SparseEfficiencyWarning: Changing the sparsity structure of a csr_matrix is expensive. lil_matrix is more efficient.\n",
      "  self._set_arrayXarray(i, j, x)\n"
     ]
    },
    {
     "data": {
      "application/vnd.jupyter.widget-view+json": {
       "model_id": "11006fbf84c54f7a8591a830443cf1f0",
       "version_major": 2,
       "version_minor": 0
      },
      "text/plain": [
       "  0%|          | 0/12906 [00:00<?, ?it/s]"
      ]
     },
     "metadata": {},
     "output_type": "display_data"
    },
    {
     "name": "stdout",
     "output_type": "stream",
     "text": [
      "Making graph symmetric...\n",
      "Computing RBF kernel...\n"
     ]
    },
    {
     "name": "stderr",
     "output_type": "stream",
     "text": [
      "sys:1: ResourceWarning: unclosed socket <zmq.Socket(zmq.PUSH) at 0x2b1c80f6ef40>\n",
      "ResourceWarning: Enable tracemalloc to get the object allocation traceback\n"
     ]
    },
    {
     "data": {
      "application/vnd.jupyter.widget-view+json": {
       "model_id": "534c463fb41d458aae2630fe0001e2b7",
       "version_major": 2,
       "version_minor": 0
      },
      "text/plain": [
       "  0%|          | 0/12906 [00:00<?, ?it/s]"
      ]
     },
     "metadata": {},
     "output_type": "display_data"
    },
    {
     "name": "stdout",
     "output_type": "stream",
     "text": [
      "Building similarity LIL matrix...\n"
     ]
    },
    {
     "name": "stderr",
     "output_type": "stream",
     "text": [
      "sys:1: ResourceWarning: unclosed socket <zmq.Socket(zmq.PUSH) at 0x2b1c63cac3a0>\n",
      "ResourceWarning: Enable tracemalloc to get the object allocation traceback\n"
     ]
    },
    {
     "data": {
      "application/vnd.jupyter.widget-view+json": {
       "model_id": "4a723ba69c9e4b9fa5d6a761ae38b150",
       "version_major": 2,
       "version_minor": 0
      },
      "text/plain": [
       "  0%|          | 0/12906 [00:00<?, ?it/s]"
      ]
     },
     "metadata": {},
     "output_type": "display_data"
    },
    {
     "name": "stdout",
     "output_type": "stream",
     "text": [
      "Constructing CSR matrix...\n"
     ]
    }
   ],
   "source": [
    "model = SEACells.core.SEACells(ad, \n",
    "                  build_kernel_on=build_kernel_on, \n",
    "                  n_SEACells=n_SEACells, \n",
    "                  n_waypoint_eigs=n_waypoint_eigs,\n",
    "                  waypt_proportion=waypoint_proportion,\n",
    "                  convergence_epsilon = 1e-5)"
   ]
  },
  {
   "cell_type": "code",
   "execution_count": 9,
   "id": "2a9797e1",
   "metadata": {},
   "outputs": [
    {
     "name": "stdout",
     "output_type": "stream",
     "text": [
      "Building kernel on LSI\n",
      "Computing diffusion components from LSI for waypoint initialization ... \n",
      "Determing nearest neighbor graph...\n",
      "Done.\n",
      "Sampling waypoints ...\n",
      "Done.\n",
      "Selecting 20 cells from waypoint initialization.\n",
      "Initializing residual matrix using greedy column selection\n",
      "Initializing f and g...\n"
     ]
    },
    {
     "data": {
      "application/vnd.jupyter.widget-view+json": {
       "model_id": "474128d1bad04c77a6fe56e94433f67b",
       "version_major": 2,
       "version_minor": 0
      },
      "text/plain": [
       "  0%|          | 0/20 [00:00<?, ?it/s]"
      ]
     },
     "metadata": {},
     "output_type": "display_data"
    },
    {
     "name": "stdout",
     "output_type": "stream",
     "text": [
      "Selecting 10 cells from greedy initialization.\n",
      "Randomly initialized A matrix.\n",
      "Setting convergence threshold at 0.005481326615143904\n",
      "Starting iteration 1.\n",
      "Completed iteration 1.\n",
      "Starting iteration 10.\n",
      "Completed iteration 10.\n",
      "Starting iteration 20.\n",
      "Completed iteration 20.\n",
      "Converged after 20 iterations.\n"
     ]
    }
   ],
   "source": [
    "# Initialize archetypes\n",
    "model.initialize_archetypes()\n",
    "model.fit(n_iter=20)"
   ]
  },
  {
   "cell_type": "code",
   "execution_count": 10,
   "id": "75c1af3d",
   "metadata": {},
   "outputs": [],
   "source": [
    "# Save results to file\n",
    "ad.obs[['SEACell']].to_csv(\"../../../data/mHSCAging10xMultiome/SEACells.tsv\", sep = \"\\t\", header = None)"
   ]
  }
 ],
 "metadata": {
  "kernelspec": {
   "display_name": "Python [conda env:.conda-seacells]",
   "language": "python",
   "name": "conda-env-.conda-seacells-py"
  },
  "language_info": {
   "codemirror_mode": {
    "name": "ipython",
    "version": 3
   },
   "file_extension": ".py",
   "mimetype": "text/x-python",
   "name": "python",
   "nbconvert_exporter": "python",
   "pygments_lexer": "ipython3",
   "version": "3.8.13"
  }
 },
 "nbformat": 4,
 "nbformat_minor": 5
}
